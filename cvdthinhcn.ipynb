{
 "cells": [
  {
   "cell_type": "code",
   "execution_count": 2,
   "id": "68a24dd4",
   "metadata": {},
   "outputs": [],
   "source": [
    "import turtle\n",
    "import math"
   ]
  },
  {
   "cell_type": "code",
   "execution_count": 3,
   "id": "e156657b",
   "metadata": {},
   "outputs": [
    {
     "name": "stdout",
     "output_type": "stream",
     "text": [
      "Nhập chiều dài hình chữ nhật: 70\n",
      "Nhập chiều rộng hình chữ nhật: 50\n",
      "Chu vi hình chữ nhật có chiều dài 70.0 chiều rộng 50.0 là 240.0\n",
      "Diện tích hình chữ nhật có chiều dài 70.0 chiều rộng 50.0 là 3500.0\n"
     ]
    }
   ],
   "source": [
    "#thiết lập bút và màu\n",
    "t=turtle.Turtle()\n",
    "t.pensize(5)\n",
    "t.color(\"green\")\n",
    "t.fillcolor(\"blue\")\n",
    "# thiết lập chiều dài chiều rộng hình chữ nhật\n",
    "w=float(input(\"Nhập chiều dài hình chữ nhật: \"))\n",
    "h=float(input(\"Nhập chiều rộng hình chữ nhật: \"))\n",
    "# Vẽ và tô màu hình chữ nhật\n",
    "t.begin_fill()\n",
    "t.forward(w)\n",
    "t.left(90)\n",
    "t.forward(h)\n",
    "t.left(90)\n",
    "t.forward(w)\n",
    "t.left(90)\n",
    "t.forward(h)\n",
    "t.end_fill()\n",
    "# Tính chu vi và diện tích hình chữ nhật\n",
    "c=2*(w+h)\n",
    "s=w*h\n",
    "# in ra màn hình chu vi và diện tích hình chữ nhật\n",
    "print(\"Chu vi hình chữ nhật có chiều dài {w} chiều rộng {h} là {c}\".format(w=w, h=h, c=c))\n",
    "print(\"Diện tích hình chữ nhật có chiều dài {w} chiều rộng {h} là {s}\".format(w=w, h=h, s=s))"
   ]
  },
  {
   "cell_type": "code",
   "execution_count": null,
   "id": "43785ce3",
   "metadata": {},
   "outputs": [],
   "source": []
  }
 ],
 "metadata": {
  "kernelspec": {
   "display_name": "Python 3",
   "language": "python",
   "name": "python3"
  },
  "language_info": {
   "codemirror_mode": {
    "name": "ipython",
    "version": 3
   },
   "file_extension": ".py",
   "mimetype": "text/x-python",
   "name": "python",
   "nbconvert_exporter": "python",
   "pygments_lexer": "ipython3",
   "version": "3.8.8"
  }
 },
 "nbformat": 4,
 "nbformat_minor": 5
}
