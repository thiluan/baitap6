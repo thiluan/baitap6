{
 "cells": [
  {
   "cell_type": "code",
   "execution_count": 26,
   "id": "49268dd2",
   "metadata": {
    "scrolled": true
   },
   "outputs": [
    {
     "name": "stdout",
     "output_type": "stream",
     "text": [
      "Nhập số usd cần đổi: 1\n",
      "1USD = 23k VND\n"
     ]
    }
   ],
   "source": [
    "import math\n",
    "# thiết lập giá trị ngoại tệ\n",
    "usd=input(\"Nhập số usd cần đổi: \")\n",
    "vnd= int(usd)*23\n",
    "# in ra màn hình kết quả chuyển đổi\n",
    "print(str(usd) + \"USD = \" + str(vnd) + \"k VND\")"
   ]
  },
  {
   "cell_type": "code",
   "execution_count": 32,
   "id": "f2088049",
   "metadata": {},
   "outputs": [
    {
     "name": "stdout",
     "output_type": "stream",
     "text": [
      "Nhập số usd cần đổi: 1\n",
      "1 USD = 23k VND\n"
     ]
    }
   ],
   "source": [
    "import math\n",
    "# thiết lập giá trị ngoại tệ\n",
    "x=input(\"Nhập số usd cần đổi: \")\n",
    "y= int(x)*23\n",
    "# in ra màn hình kết quả chuyển đổi\n",
    "print(str(x) + \" USD = \" + str(y) + \"k VND\")"
   ]
  },
  {
   "cell_type": "code",
   "execution_count": null,
   "id": "60ac472a",
   "metadata": {},
   "outputs": [],
   "source": []
  }
 ],
 "metadata": {
  "kernelspec": {
   "display_name": "Python 3",
   "language": "python",
   "name": "python3"
  },
  "language_info": {
   "codemirror_mode": {
    "name": "ipython",
    "version": 3
   },
   "file_extension": ".py",
   "mimetype": "text/x-python",
   "name": "python",
   "nbconvert_exporter": "python",
   "pygments_lexer": "ipython3",
   "version": "3.8.8"
  }
 },
 "nbformat": 4,
 "nbformat_minor": 5
}
