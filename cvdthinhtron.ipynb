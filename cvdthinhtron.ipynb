{
 "cells": [
  {
   "cell_type": "code",
   "execution_count": 1,
   "id": "235049d5",
   "metadata": {},
   "outputs": [],
   "source": [
    "import turtle\n",
    "import math"
   ]
  },
  {
   "cell_type": "code",
   "execution_count": 5,
   "id": "d463d7e3",
   "metadata": {},
   "outputs": [
    {
     "name": "stdout",
     "output_type": "stream",
     "text": [
      "Nhập bán kính hình tròn: 100\n",
      "chu vi hình tròn có bán kính 100 là: 628.3185307179587\n",
      "diện tich hình tròn có bán kính 100 là: 31415.926535897932\n"
     ]
    }
   ],
   "source": [
    "#vẽ hình tròn\n",
    "r=int(input(\"Nhập bán kính hình tròn: \"))\n",
    "t=turtle.Turtle()\n",
    "t.pensize(5)\n",
    "t.fillcolor(\"green\")\n",
    "t.color(\"red\")\n",
    "t.begin_fill()\n",
    "t.circle(r)\n",
    "t.end_fill()\n",
    "# chu vi và diện tích hình tròn\n",
    "p=2*math.pi*r\n",
    "s=math.pi*r*r\n",
    "# in ra màn hình chu vi và diện tích hình tròn\n",
    "print(\"chu vi hình tròn có bán kính {r} là: {p}\".format(r=r, p=p))\n",
    "print(\"diện tich hình tròn có bán kính {r} là: {s}\".format(r=r, s=s))\n"
   ]
  },
  {
   "cell_type": "code",
   "execution_count": null,
   "id": "5d30a569",
   "metadata": {},
   "outputs": [],
   "source": []
  }
 ],
 "metadata": {
  "kernelspec": {
   "display_name": "Python 3",
   "language": "python",
   "name": "python3"
  },
  "language_info": {
   "codemirror_mode": {
    "name": "ipython",
    "version": 3
   },
   "file_extension": ".py",
   "mimetype": "text/x-python",
   "name": "python",
   "nbconvert_exporter": "python",
   "pygments_lexer": "ipython3",
   "version": "3.8.8"
  }
 },
 "nbformat": 4,
 "nbformat_minor": 5
}
